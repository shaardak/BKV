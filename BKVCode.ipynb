{
 "cells": [
  {
   "cell_type": "code",
   "execution_count": null,
   "metadata": {},
   "outputs": [],
   "source": [
    "#Createed on September 11, 2024, Data Preprocessing for Viral Bound Peptide Association with BK Viral infection\n",
    "import seaborn as sns\n",
    "import matplotlib.pyplot as plt\n",
    "import pandas as pd\n",
    "import numpy as np\n",
    "from sklearn.model_selection import train_test_split"
   ]
  },
  {
   "cell_type": "code",
   "execution_count": null,
   "metadata": {},
   "outputs": [],
   "source": [
    "bk_data = pd.read_csv('/content/drive/MyDrive/ViralPeptidesv.BKVirus_CleanVersion.csv')\n",
    "# bk_data.head()\n",
    "# print(bk_data.shape)\n",
    "# bk_data.isnull().sum()\n",
    "bk_data_mod = bk_data.ffill()\n",
    "bk_data_mod"
   ]
  },
  {
   "cell_type": "code",
   "execution_count": null,
   "metadata": {},
   "outputs": [],
   "source": [
    "bk_data_mod.value_counts(['Transplant organ'])"
   ]
  },
  {
   "cell_type": "code",
   "execution_count": null,
   "metadata": {},
   "outputs": [],
   "source": [
    "bk_data_mod['Disease'].replace('-','BKVAN',inplace = True)\n",
    "bk_data_mod.value_counts('Disease')"
   ]
  },
  {
   "cell_type": "code",
   "execution_count": null,
   "metadata": {},
   "outputs": [],
   "source": [
    "bk_data_mod.value_counts('Source')"
   ]
  },
  {
   "cell_type": "code",
   "execution_count": null,
   "metadata": {},
   "outputs": [],
   "source": [
    "from sklearn.preprocessing import LabelEncoder\n",
    "le = LabelEncoder()\n",
    "\n",
    "le.fit(bk_data_mod['Transplant organ'])\n",
    "numerical_organ = le.transform(bk_data_mod['Transplant organ'])\n",
    "print(len(bk_data_mod['Transplant organ']))\n",
    "print(bk_data_mod['Transplant organ'][0])\n",
    "dict1 = {}\n",
    "for i in range (0,225):\n",
    "  dict1[bk_data_mod['Transplant organ'][i]] = numerical_organ[i]\n",
    "bk_data_mod['Transplant organ'] = bk_data_mod['Transplant organ'].map(dict1).fillna(bk_data_mod['Transplant organ'])"
   ]
  },
  {
   "cell_type": "code",
   "execution_count": null,
   "metadata": {},
   "outputs": [],
   "source": [
    "le.fit(bk_data_mod['Source'])\n",
    "numerical_source = le.transform(bk_data_mod['Source'])\n",
    "dict2 = {}\n",
    "for i in range (0,225):\n",
    "  dict2[bk_data_mod['Source'][i]] = numerical_source[i]\n",
    "bk_data_mod['Source'] = bk_data_mod['Source'].map(dict2).fillna(bk_data_mod['Source'])"
   ]
  },
  {
   "cell_type": "code",
   "execution_count": null,
   "metadata": {},
   "outputs": [],
   "source": [
    "le.fit(bk_data_mod['Disease'])\n",
    "numerical_disease = le.transform(bk_data_mod['Disease'])\n",
    "dict4 = {}\n",
    "for i in range (0,225):\n",
    "  dict4[bk_data_mod['Disease'][i]] = numerical_disease[i]\n",
    "bk_data_mod['Disease'] = bk_data_mod['Disease'].map(dict4).fillna(bk_data_mod['Disease'])"
   ]
  },
  {
   "cell_type": "code",
   "execution_count": null,
   "metadata": {},
   "outputs": [],
   "source": [
    "viralvals  = []\n",
    "for i in range (0,225):\n",
    "  temp = bk_data_mod['Viral load (copies/mL)'][i].split(\"×\")\n",
    "  temp[0].strip()\n",
    "  newdigits = float(temp[0])\n",
    "  temp[1].strip()\n",
    "  ten = temp[1][0:3]\n",
    "  expo = temp[1][3::]\n",
    "  ten = int(ten)\n",
    "  expo = int(expo)\n",
    "  power = ten**expo\n",
    "  viralload = newdigits * power\n",
    "  viralvals.append(viralload)\n",
    "dict3 = {}\n",
    "for i in range (0,225):\n",
    "  dict3[bk_data_mod['Viral load (copies/mL)'][i]] = viralvals[i]\n",
    "bk_data_mod['Viral load (copies/mL)'] = bk_data_mod['Viral load (copies/mL)'].map(dict3).fillna(bk_data_mod['Viral load (copies/mL)'])"
   ]
  },
  {
   "cell_type": "code",
   "execution_count": null,
   "metadata": {},
   "outputs": [],
   "source": [
    "del bk_data_mod['Sampling day']"
   ]
  },
  {
   "cell_type": "code",
   "execution_count": null,
   "metadata": {},
   "outputs": [],
   "source": [
    "bk_data_mod['logvalue'] = np.log10(bk_data_mod['Viral load (copies/mL)'])\n"
   ]
  },
  {
   "cell_type": "code",
   "execution_count": null,
   "metadata": {},
   "outputs": [],
   "source": [
    "plt.figure(figsize = (10,12))\n",
    "plt.hist(bk_data_mod['logvalue'],edgecolor = 'black')\n",
    "plt.show()"
   ]
  },
  {
   "cell_type": "code",
   "execution_count": null,
   "metadata": {},
   "outputs": [],
   "source": [
    "plt.figure(figsize=(12,10))\n",
    "sns.scatterplot(x=bk_data_mod['Number of polymorphisms'], y=bk_data_mod['logvalue'],hue= bk_data_mod['Source'])\n",
    "plt.show()"
   ]
  },
  {
   "cell_type": "code",
   "execution_count": null,
   "metadata": {},
   "outputs": [],
   "source": [
    "bk_data_mod.describe()"
   ]
  },
  {
   "cell_type": "code",
   "execution_count": null,
   "metadata": {},
   "outputs": [],
   "source": [
    "bk_data_mod.head(225)"
   ]
  },
  {
   "cell_type": "code",
   "execution_count": null,
   "metadata": {},
   "outputs": [],
   "source": [
    "y = bk_data_mod['logvalue']\n",
    "X = bk_data_mod[['Number of polymorphisms'],['source']]"
   ]
  },
  {
   "cell_type": "code",
   "execution_count": null,
   "metadata": {},
   "outputs": [],
   "source": [
    "from sklearn.linear_model import LinearRegression\n",
    "from sklearn.metrics import mean_absolute_error\n",
    "from sklearn.metrics import mean_squared_error\n",
    "from sklearn.metrics import r2_score\n",
    "from sklearn.model_selection import train_test_split\n",
    "X_train, X_test, y_train, y_test = train_test_split(X,y,test_size = 0.2,random_state = 42)"
   ]
  },
  {
   "cell_type": "code",
   "execution_count": null,
   "metadata": {},
   "outputs": [],
   "source": [
    "np.random.seed(42)"
   ]
  },
  {
   "cell_type": "code",
   "execution_count": null,
   "metadata": {},
   "outputs": [],
   "source": [
    "import math\n",
    "def truncate(number, decimals):\n",
    "    factor = 10.0 ** decimals\n",
    "    return math.trunc(number * factor) / factor"
   ]
  },
  {
   "cell_type": "code",
   "execution_count": null,
   "metadata": {},
   "outputs": [],
   "source": [
    "reg = LinearRegression(random_state=42) #Linear Regression\n",
    "reg.fit(X_train,y_train)\n",
    "prediction = reg.predict(X_test)\n",
    "print(\"Mean Absolute Error:     \",truncate(mean_absolute_error(y_test,prediction),6))\n",
    "print(\"Mean Squared Error:      \",truncate(mean_squared_error(y_test,prediction),6))\n",
    "print(\"Square Residual:         \",truncate(r2_score(y_test,prediction),6))\n",
    "print(\"Root Mean Squared Error: \",str(truncate(mean_squared_error(y_test,prediction, squared = False),6))+'00')"
   ]
  },
  {
   "cell_type": "code",
   "execution_count": null,
   "metadata": {},
   "outputs": [],
   "source": [
    "plt.figure(figsize=(8, 10))\n",
    "\n",
    "# Plot real data\n",
    "plt.plot(range(len(y_test)), y_test, label='True Values', color='blue',marker = 'o')\n",
    "\n",
    "# Plot predicted data\n",
    "plt.plot(range(len(prediction)), prediction, label='Predicted Data', color='red',marker='o')\n",
    "\n",
    "# Add labels and legend\n",
    "plt.xlabel('Number of Polymorphisms')\n",
    "plt.ylabel('BK Viral Log Value')\n",
    "plt.title('Raw Linear Regressor Predicted vs True')\n",
    "plt.legend()\n",
    "\n",
    "# Show the plot\n",
    "plt.show()"
   ]
  },
  {
   "cell_type": "code",
   "execution_count": null,
   "metadata": {},
   "outputs": [],
   "source": [
    "from sklearn import linear_model # Ridge Regression\n",
    "reg1 = linear_model.Ridge(alpha = 0.5,random_state=42)\n",
    "reg1.fit(X_train,y_train)\n",
    "reg1_pred = reg1.predict(X_test)\n",
    "print(\"Mean Absolute Error:    \",truncate(mean_absolute_error(y_test,reg1_pred),6))\n",
    "print(\"Mean Squared Error:     \",str(truncate(mean_squared_error(y_test,reg1_pred),6))+'0')\n",
    "print(\"Square Residual:        \",truncate(r2_score(y_test,reg1_pred),6))\n",
    "print(\"Root Mean Square Error: \",truncate(mean_squared_error(y_test,reg1_pred,squared = False),6))"
   ]
  },
  {
   "cell_type": "code",
   "execution_count": null,
   "metadata": {},
   "outputs": [],
   "source": [
    "plt.figure(figsize=(8, 10))\n",
    "\n",
    "# Plot real data\n",
    "plt.plot(range(len(y_test)), y_test, label='True Values', color='blue',marker = 'o')\n",
    "\n",
    "# Plot predicted data\n",
    "plt.plot(range(len(reg1_pred)), reg1_pred, label='Predicted Data', color='red',marker='o')\n",
    "\n",
    "# Add labels and legend\n",
    "plt.xlabel('Number of Polymorphisms')\n",
    "plt.ylabel('BK Viral Log Value')\n",
    "plt.title('Raw Ridge Regressor Predicted vs True')\n",
    "plt.legend()\n",
    "\n",
    "# Show the plot\n",
    "plt.show()"
   ]
  },
  {
   "cell_type": "code",
   "execution_count": null,
   "metadata": {},
   "outputs": [],
   "source": [
    "clf = linear_model.Lasso(alpha = 0.01) # Lasso : Note: 0.01 Alpha yields the lowest M.A. Error\n",
    "clf.fit(X_train,y_train)\n",
    "clf_pred = clf.predict(X_test)\n",
    "print(\"Mean Absolute Error:    \",truncate(mean_absolute_error(y_test,clf_pred),6))\n",
    "print(\"Mean Squared Error:     \",truncate(mean_squared_error(y_test,clf_pred),6))\n",
    "print(\"Square Residual:        \",truncate(r2_score(y_test,clf_pred),6))\n",
    "print(\"Root Mean Squared Error:\",truncate(mean_squared_error(y_test,clf_pred, squared = False),6))\n",
    "#Lasso : 1.067 Lowest Absolute Error"
   ]
  },
  {
   "cell_type": "code",
   "execution_count": null,
   "metadata": {},
   "outputs": [],
   "source": [
    "plt.figure(figsize=(8, 10))\n",
    "\n",
    "# Plot real data\n",
    "plt.plot(range(len(y_test)), y_test, label='True Values', color='blue',marker = 'o')\n",
    "\n",
    "# Plot predicted data\n",
    "plt.plot(range(len(clf_pred)), clf_pred, label='Predicted Data', color='red',marker='o')\n",
    "\n",
    "# Add labels and legend\n",
    "plt.xlabel('Number of Polymorphisms')\n",
    "plt.ylabel('BK Viral Log Value')\n",
    "plt.title('Raw Lasso Regressor Predicted vs True')\n",
    "plt.legend()\n",
    "\n",
    "# Show the plot\n",
    "plt.show()"
   ]
  },
  {
   "cell_type": "code",
   "execution_count": null,
   "metadata": {},
   "outputs": [],
   "source": [
    "from sklearn.svm import SVR\n",
    "from sklearn.pipeline import make_pipeline\n",
    "from sklearn.preprocessing import StandardScaler\n",
    "regr_svr = make_pipeline(StandardScaler(), SVR(C=1.0, epsilon=0.2),random_state=42)\n",
    "regr_svr.fit(X_train,y_train)\n",
    "regr_svr_pred = regr_svr.predict(X_test)\n",
    "print(\"Mean Absolute Error:     \",truncate(mean_absolute_error(y_test,regr_svr_pred),6))\n",
    "print(\"Mean Squared Error:      \",truncate(mean_squared_error(y_test,regr_svr_pred),6))\n",
    "print(\"Square Residual:         \",truncate(r2_score(y_test,regr_svr_pred),6))\n",
    "print(\"Root Mean Squared Error: \",truncate(mean_squared_error(y_test,regr_svr_pred,squared = False),6))"
   ]
  },
  {
   "cell_type": "code",
   "execution_count": null,
   "metadata": {},
   "outputs": [],
   "source": [
    "plt.figure(figsize=(8, 10))\n",
    "\n",
    "# Plot real data\n",
    "plt.plot(range(len(y_test)), y_test, label='True Values', color='blue',marker = 'o')\n",
    "\n",
    "# Plot predicted data\n",
    "plt.plot(range(len(regr_svr_pred)), regr_svr_pred, label='Predicted Data', color='red',marker='o')\n",
    "\n",
    "# Add labels and legend\n",
    "plt.xlabel('Number of Polymorphisms')\n",
    "plt.ylabel('BK Viral Log Value')\n",
    "plt.title('Raw Support Vector Regressor Predicted vs True')\n",
    "plt.legend()\n",
    "\n",
    "# Show the plot"
   ]
  },
  {
   "cell_type": "code",
   "execution_count": null,
   "metadata": {},
   "outputs": [],
   "source": [
    "print(np.log10(14))"
   ]
  },
  {
   "cell_type": "code",
   "execution_count": null,
   "metadata": {},
   "outputs": [],
   "source": [
    "from sklearn.tree import DecisionTreeRegressor\n",
    "from sklearn.model_selection import cross_val_score\n",
    "regressor = DecisionTreeRegressor(random_state=42)\n",
    "regressor.fit(X_train,y_train)\n",
    "DTR_pred = regressor.predict(X_test)\n",
    "print(\"Mean Absolute Error:    \",truncate(mean_absolute_error(y_test,DTR_pred),6))\n",
    "print(\"Mean Squared Error:     \",truncate(mean_squared_error(y_test,DTR_pred),6))\n",
    "print(\"Square Residual:        \",truncate(r2_score(y_test,DTR_pred),6))\n",
    "print(\"Root Mean Squared Error:\",truncate(mean_squared_error(y_test,DTR_pred, squared = False),6))"
   ]
  },
  {
   "cell_type": "code",
   "execution_count": null,
   "metadata": {},
   "outputs": [],
   "source": [
    "plt.figure(figsize=(8, 10))\n",
    "\n",
    "# Plot real data\n",
    "plt.plot(range(len(y_test)), y_test, label='True Values', color='blue',marker='o')\n",
    "\n",
    "# Plot predicted data\n",
    "plt.plot(range(len(DTR_pred)), DTR_pred, label='Predicted Data', color='red',marker = 'o')\n",
    "\n",
    "# Add labels and legend\n",
    "plt.xlabel('Number of Polymorphisms')\n",
    "plt.ylabel('BK Viral Log Value')\n",
    "plt.title('Raw Decision Tree Regressor Predicted vs True')\n",
    "plt.legend()\n",
    "\n",
    "# Show the plot\n",
    "plt.show()"
   ]
  },
  {
   "cell_type": "code",
   "execution_count": null,
   "metadata": {},
   "outputs": [],
   "source": [
    "from sklearn.ensemble import RandomForestRegressor # Random Forest Regression\n",
    "regr = RandomForestRegressor(max_depth = 2, random_state = 42)\n",
    "regr.fit(X_train,y_train)\n",
    "regr_prediction = regr.predict(X_test)\n",
    "print(\"Mean Absolute Error:     \",truncate(mean_absolute_error(y_test,regr_prediction),6))\n",
    "print(\"Mean Squared Error:      \",truncate(mean_squared_error(y_test,regr_prediction),6))\n",
    "print(\"Square Residual:         \",truncate(r2_score(y_test,regr_prediction),6))\n",
    "print(\"Root Mean Squared Error: \",truncate(mean_squared_error(y_test,regr_prediction, squared = False),6))"
   ]
  },
  {
   "cell_type": "code",
   "execution_count": null,
   "metadata": {},
   "outputs": [],
   "source": [
    "# plt.figure(figsize=(8, 10))\n",
    "# print(X_test.shape)\n",
    "# print(y_test.shape)\n",
    "\n",
    "# # Plot real data\n",
    "plt.plot(range(len(y_test)), y_test, label='True Values', color='blue',marker='o')\n",
    "\n",
    "# # Plot predicted data\n",
    "plt.plot(range(len(regr_prediction)), regr_prediction, label='Predicted Data', color='red',marker='o')\n",
    "\n",
    "# Add labels and legend\n",
    "plt.xlabel('Index')\n",
    "plt.ylabel('BK Viral Log Value')\n",
    "plt.title('Raw Random Forest Regressor Predicted vs True')\n",
    "plt.legend()\n",
    "\n",
    "# Show the plot\n",
    "plt.show()"
   ]
  },
  {
   "cell_type": "code",
   "execution_count": null,
   "metadata": {},
   "outputs": [],
   "source": [
    "from sklearn.model_selection import RandomizedSearchCV\n",
    "distributions = {'max_depth':[2,3,4,5,6],'n_estimators':[100,125,150,175,200]}\n",
    "rfg = RandomizedSearchCV(regr,distributions,random_state = 42,scoring = 'neg_mean_absolute_error')\n",
    "search = rfg.fit(X_train,y_train)\n",
    "search.best_params_\n",
    "searchpath = pd.DataFrame(search.cv_results_)\n",
    "print(searchpath)"
   ]
  },
  {
   "cell_type": "code",
   "execution_count": null,
   "metadata": {},
   "outputs": [],
   "source": [
    "import scipy.interpolate as interp\n",
    "print(distributions['max_depth'])\n",
    "print(distributions['n_estimators'])\n",
    "a = np.array(distributions['max_depth'])\n",
    "b = np.array(distributions['n_estimators'])\n",
    "listk = np.reshape(searchpath['mean_test_score'],(10,1)).T\n",
    "# z_inter = interp.interp1d(np.arange(list1.size), list1)\n",
    "# z_ = z_inter(np.linspace(0,list1.size-1,x.size))\n",
    "a_inter = interp.interp1d(np.arange(a.size),a)\n",
    "a_ = a_inter(np.linspace(0,a.size-1,listk.size))\n",
    "b_inter = interp.interp1d(np.arange(b.size),b)\n",
    "b_ = b_inter(np.linspace(0,b.size-1,listk.size))\n",
    "\n",
    "fig = plt.figure(figsize = (25, 25))\n",
    "ax = fig.add_subplot(111,projection = '3d')\n",
    "ax.scatter(a_,b_,listk,linewidths = 4, alpha = 0.7, edgecolor = 'black',s = 700, c = listk)\n",
    "ax.set_xlabel('Max Depth', fontsize=15,labelpad=20,weight='bold')\n",
    "ax.set_ylabel('Number of Estimators', fontsize=15,labelpad=20,weight='bold')\n",
    "ax.tick_params(axis='x', labelsize=15)\n",
    "ax.tick_params(axis='y', labelsize=15)\n",
    "ax.tick_params(axis='z', labelsize=15)\n",
    "\n",
    "ax.set_zlabel('Negative Mean Absolute Error',fontsize=15,labelpad=20,weight='bold')\n",
    "plt.title('Random Forest Randomized Search Results', fontsize=24,weight='bold')\n",
    "plt.show()"
   ]
  },
  {
   "cell_type": "code",
   "execution_count": null,
   "metadata": {},
   "outputs": [],
   "source": [
    "plt.plot(range(1,11),searchpath['mean_test_score'],marker = 'o',color='green')\n",
    "plt.xlabel('Index')\n",
    "plt.ylabel('Negative Mean Absolute Error')\n",
    "plt.title('Randomized Search')"
   ]
  },
  {
   "cell_type": "code",
   "execution_count": null,
   "metadata": {},
   "outputs": [],
   "source": [
    "plt.scatter(range(1,11),searchpath['mean_test_score'])"
   ]
  },
  {
   "cell_type": "code",
   "execution_count": null,
   "metadata": {},
   "outputs": [],
   "source": [
    "from sklearn.model_selection import GridSearchCV\n",
    "rfggsc = GridSearchCV(regr,distributions,scoring = 'neg_mean_absolute_error')\n",
    "sgcs = rfggsc.fit(X_train,y_train,random_state=42)\n",
    "# rfgpath = pd.DataFrame(rfggsc.cv_results)\n",
    "# print(rfggsc.cv_results_)\n",
    "path = pd.DataFrame(rfggsc.cv_results_)\n",
    "print(path)\n",
    "print(pd.concat([pd.DataFrame(rfggsc.cv_results_[\"params\"]),pd.DataFrame(rfggsc.cv_results_[\"mean_test_score\"], columns=[\"Negative Mean Absolute Error\"])],axis=1))\n",
    "# # plt.figure(figsize=(10,6))\n",
    "# # plt.plot(range(1, 16), rfggsc.cv_results)\n"
   ]
  },
  {
   "cell_type": "code",
   "execution_count": null,
   "metadata": {},
   "outputs": [],
   "source": [
    "print(sgcs.best_score_)"
   ]
  },
  {
   "cell_type": "code",
   "execution_count": null,
   "metadata": {},
   "outputs": [],
   "source": [
    "print(sgcs.best_params_)\n",
    "print(sgcs.best_score_)"
   ]
  },
  {
   "cell_type": "code",
   "execution_count": null,
   "metadata": {},
   "outputs": [],
   "source": [
    "# plt.plot(range(1,26),path['mean_test_score'])\n",
    "import scipy.interpolate as interp\n",
    "print(distributions['max_depth'])\n",
    "print(distributions['n_estimators'])\n",
    "x = np.array(distributions['max_depth'])\n",
    "y = np.array(distributions['n_estimators'])\n",
    "list1 = np.reshape(path['mean_test_score'],(25,1)).T\n",
    "# z_inter = interp.interp1d(np.arange(list1.size), list1)\n",
    "# z_ = z_inter(np.linspace(0,list1.size-1,x.size))\n",
    "x_inter = interp.interp1d(np.arange(x.size),x)\n",
    "x_ = x_inter(np.linspace(0,x.size-1,list1.size))\n",
    "y_inter = interp.interp1d(np.arange(y.size),y)\n",
    "y_ = y_inter(np.linspace(0,y.size-1,list1.size))\n",
    "\n",
    "fig = plt.figure(figsize = (25, 25))\n",
    "ax = fig.add_subplot(111,projection = '3d')\n",
    "ax.scatter3D(x_,y_,list1,linewidths = 3, alpha = 0.7, edgecolor = 'black',s = 500, c = list1)\n",
    "ax.set_xlabel('Max Depth', fontsize=18,labelpad=20)\n",
    "ax.set_ylabel('Number of Estimators', fontsize=18,labelpad=20)\n",
    "ax.tick_params(axis='x', labelsize=18)\n",
    "ax.tick_params(axis='y', labelsize=18)\n",
    "ax.tick_params(axis='z', labelsize=18)\n",
    "\n",
    "ax.set_zlabel('Negative Mean Absolute Error',fontsize=18,labelpad=20)\n",
    "plt.title('Random Forest Grid Search Results', fontsize=20)\n",
    "plt.show()"
   ]
  },
  {
   "cell_type": "code",
   "execution_count": null,
   "metadata": {},
   "outputs": [],
   "source": [
    "new_regr = RandomForestRegressor(max_depth=1,n_estimators=1000,random_state=42)\n",
    "new_regr.fit(X_train,y_train)\n",
    "new_regr_prediction = new_regr.predict(X_test)\n",
    "print(\"Mean Absolute Error:    \" ,truncate(mean_absolute_error(y_test,new_regr_prediction),6))\n",
    "print(\"Mean Squared Error:     \" ,truncate(mean_squared_error(y_test,new_regr_prediction),6))\n",
    "print(\"Square Residual:        \" ,truncate(r2_score(y_test,new_regr_prediction),6))\n",
    "print(\"Root Mean Squared Error:\",truncate(mean_squared_error(y_test,new_regr_prediction, squared = False),6))"
   ]
  },
  {
   "cell_type": "code",
   "execution_count": null,
   "metadata": {},
   "outputs": [],
   "source": [
    "import joblib\n",
    "joblib.dump(new_regr, '/content/drive/MyDrive/model.joblib')"
   ]
  },
  {
   "cell_type": "code",
   "execution_count": null,
   "metadata": {},
   "outputs": [],
   "source": [
    "plt.figure(figsize=(8, 10))\n",
    "\n",
    "# Plot real data\n",
    "plt.plot(range(len(y_test)), y_test, label='True Values', color='blue',marker='o')\n",
    "\n",
    "# Plot predicted data\n",
    "plt.plot(range(len(new_regr_prediction)), new_regr_prediction, label='Predicted Data', color='red',marker = 'o')\n",
    "\n",
    "# Add labels and legend\n",
    "plt.xlabel('Number of Polymorphisms')\n",
    "plt.ylabel('BK Viral Log Value')\n",
    "plt.title('Tuned Random Forest Regressor Predicted vs True')\n",
    "plt.legend()\n",
    "\n",
    "# Show the plot\n",
    "plt.show()"
   ]
  },
  {
   "cell_type": "code",
   "execution_count": null,
   "metadata": {},
   "outputs": [],
   "source": []
  },
  {
   "cell_type": "code",
   "execution_count": null,
   "metadata": {},
   "outputs": [],
   "source": []
  }
 ],
 "metadata": {
  "language_info": {
   "name": "python"
  }
 },
 "nbformat": 4,
 "nbformat_minor": 2
}
